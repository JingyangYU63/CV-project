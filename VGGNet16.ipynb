{
  "nbformat": 4,
  "nbformat_minor": 0,
  "metadata": {
    "colab": {
      "name": "VGGNet16",
      "provenance": [],
      "collapsed_sections": [],
      "machine_shape": "hm"
    },
    "kernelspec": {
      "name": "python3",
      "display_name": "Python 3"
    },
    "language_info": {
      "name": "python"
    },
    "accelerator": "GPU"
  },
  "cells": [
    {
      "cell_type": "code",
      "execution_count": null,
      "metadata": {
        "id": "C5D1jwDm0w2Z"
      },
      "outputs": [],
      "source": [
        "import numpy as np\n",
        "import pandas as pd\n",
        "import torch\n",
        "from torch import nn\n",
        "from torch.utils.data import Dataset, DataLoader, random_split\n",
        "from google.colab import files, drive"
      ]
    },
    {
      "cell_type": "code",
      "source": [
        "drive.mount('/content/gdrive')"
      ],
      "metadata": {
        "id": "HYo5CANn86th",
        "colab": {
          "base_uri": "https://localhost:8080/"
        },
        "outputId": "3ecf8c99-5370-4f8f-acb3-979ae11ee6a5"
      },
      "execution_count": null,
      "outputs": [
        {
          "output_type": "stream",
          "name": "stdout",
          "text": [
            "Drive already mounted at /content/gdrive; to attempt to forcibly remount, call drive.mount(\"/content/gdrive\", force_remount=True).\n"
          ]
        }
      ]
    },
    {
      "cell_type": "code",
      "source": [
        "path = '/content/gdrive/MyDrive/Primary_Dataset_with_Label.pt'\n",
        "Primary_Dataset_with_Label = torch.load(path)"
      ],
      "metadata": {
        "id": "uPy8Y7BkjrRa"
      },
      "execution_count": null,
      "outputs": []
    },
    {
      "cell_type": "code",
      "source": [
        "class cornSeeds(Dataset):\n",
        "    def __init__(self, data):\n",
        "        self.X = data['images'].type(torch.FloatTensor)\n",
        "        self.y = data['label']   \n",
        " \n",
        "    # The __len__ function returns the number of samples in our dataset.\n",
        "    def __len__(self):\n",
        "        return self.X.size()[0]\n",
        " \n",
        "    # The __getitem__ function loads and returns a sample from the dataset at the given index idx\n",
        "    def __getitem__(self, idx):\n",
        "        return [self.X[idx], self.y[idx]]\n",
        " \n",
        "    # get indexes for train and test rows\n",
        "    def get_splits(self, n_test = 0.25):\n",
        "        # determine the split sizes\n",
        "        test_size = round(n_test * len(self.X))\n",
        "        train_size = len(self.X) - test_size\n",
        "        # fix the generator for reproducible results\n",
        "        return random_split(self, [train_size, test_size], generator = torch.Generator().manual_seed(123))"
      ],
      "metadata": {
        "id": "HWXDLKAVmLqJ"
      },
      "execution_count": null,
      "outputs": []
    },
    {
      "cell_type": "code",
      "source": [
        "class CNN(nn.Module):\n",
        "    # define model elements\n",
        "    def __init__(self):\n",
        "        super(CNN, self).__init__()\n",
        "        self.convLayer = nn.Sequential(\n",
        "            nn.Conv2d(in_channels = 3, \n",
        "                                 out_channels = 64, \n",
        "                                 kernel_size = (3, 3),\n",
        "                                 stride = 1,\n",
        "                                 padding = 2),\n",
        "\n",
        "            nn.Conv2d(in_channels = 64, \n",
        "                                 out_channels = 64, \n",
        "                                 kernel_size = (3, 3),\n",
        "                                 stride = 1,\n",
        "                                 padding = 2), \n",
        "            \n",
        "            nn.ReLU(),\n",
        "\n",
        "            nn.MaxPool2d(kernel_size = (3,3), \n",
        "                                  stride = (2,2)),    \n",
        "            \n",
        "            nn.ReLU(),\n",
        "\n",
        "            nn.Conv2d(in_channels = 64, \n",
        "                                 out_channels = 128, \n",
        "                                 kernel_size = (3, 3),\n",
        "                                 stride = 1,\n",
        "                                 padding = 2),\n",
        "\n",
        "            nn.Conv2d(in_channels = 128, \n",
        "                                 out_channels = 128, \n",
        "                                 kernel_size = (3, 3),\n",
        "                                 stride = 1,\n",
        "                                 padding = 2),    \n",
        "\n",
        "            nn.ReLU(),\n",
        "\n",
        "            nn.MaxPool2d(kernel_size = (3,3), \n",
        "                                  stride = (2,2)),\n",
        "            \n",
        "            nn.ReLU(),\n",
        "\n",
        "            nn.Conv2d(in_channels = 128, \n",
        "                                 out_channels = 256, \n",
        "                                 kernel_size = (3, 3),\n",
        "                                 stride = 1,\n",
        "                                 padding = 2),\n",
        "\n",
        "            nn.Conv2d(in_channels = 256, \n",
        "                                 out_channels = 256, \n",
        "                                 kernel_size = (3, 3),\n",
        "                                 padding = 1,\n",
        "                                 stride = 1),\n",
        "\n",
        "            nn.ReLU(),\n",
        "\n",
        "            nn.MaxPool2d(kernel_size = (3,3), \n",
        "                                  stride = (2,2)),\n",
        "\n",
        "            nn.ReLU(),\n",
        "\n",
        "            nn.Conv2d(in_channels = 256, \n",
        "                                 out_channels = 512, \n",
        "                                 kernel_size = (3, 3),\n",
        "                                 padding = 1,\n",
        "                                 stride = 1),\n",
        "\n",
        "            nn.Conv2d(in_channels = 512, \n",
        "                                 out_channels = 512, \n",
        "                                 kernel_size = (3, 3),\n",
        "                                 padding = 1,\n",
        "                                 stride = 1),\n",
        "            \n",
        "            nn.Conv2d(in_channels = 512, \n",
        "                                 out_channels = 512, \n",
        "                                 kernel_size = (3, 3),\n",
        "                                 padding = 1,\n",
        "                                 stride = 1),\n",
        "\n",
        "            nn.ReLU(),\n",
        "\n",
        "            nn.MaxPool2d(kernel_size = (3,3), \n",
        "                                  stride = (2,2)),\n",
        "\n",
        "            nn.ReLU(),\n",
        "\n",
        "            nn.Conv2d(in_channels = 512, \n",
        "                                 out_channels = 512, \n",
        "                                 kernel_size = (3, 3),\n",
        "                                 padding = 1,\n",
        "                                 stride = 1),\n",
        "            \n",
        "            nn.Conv2d(in_channels = 512, \n",
        "                                 out_channels = 512, \n",
        "                                 kernel_size = (3, 3),\n",
        "                                 padding = 1,\n",
        "                                 stride = 1),\n",
        "            \n",
        "            nn.Conv2d(in_channels = 512, \n",
        "                                 out_channels = 512, \n",
        "                                 kernel_size = (3, 3),\n",
        "                                 padding = 1,\n",
        "                                 stride = 1),\n",
        "\n",
        "            nn.ReLU(),\n",
        "\n",
        "            nn.MaxPool2d(kernel_size = (3,3), \n",
        "                                  stride = (2,2)),\n",
        "\n",
        "            nn.ReLU(),\n",
        "        )\n",
        "        \n",
        "        # flatten layer\n",
        "        self.flatten = nn.Flatten()\n",
        "        self.bnm1 = nn.BatchNorm1d(25088)\n",
        "        \n",
        "        # fully connected layer\n",
        "        self.hidden6 = nn.Linear(25088, 100)\n",
        "        self.act1 = nn.ReLU()\n",
        "        self.bnm2 = nn.BatchNorm1d(100)\n",
        "\n",
        "        # fully connected layer\n",
        "        self.hidden7 = nn.Linear(100, 4)\n",
        "\n",
        "        # output layer\n",
        "        self.output = nn.Softmax(dim = 1)\n",
        "\n",
        "    # forward propagate input\n",
        "    def forward(self, X):\n",
        "        X = self.convLayer(X)\n",
        "        X = self.flatten(X)\n",
        "        X = self.bnm1(X)\n",
        "        X = self.hidden6(X)\n",
        "        X = self.act1(X)\n",
        "        X = self.bnm2(X)\n",
        "        X = self.hidden7(X)\n",
        "        X = self.output(X)\n",
        "        \n",
        "        return X"
      ],
      "metadata": {
        "id": "-uup9rCJn_M5"
      },
      "execution_count": null,
      "outputs": []
    },
    {
      "cell_type": "code",
      "source": [
        "def train_model(dataloader, model, loss_fn, optimizer, num, verbose = False):  \n",
        "\n",
        "    for epoch in range(num):\n",
        "        model.train()\n",
        "        running_loss = 0\n",
        "        size = len(dataloader.dataset)\n",
        "        print(f\"Epoch {epoch+1}\\n-------------------------------\")\n",
        "        for batch, (X, y) in enumerate(train_dataloader):\n",
        "            X, y = X.to(device), y.to(device)\n",
        "            # Compute prediction error\n",
        "            pred = model(X)\n",
        "            loss = loss_fn(pred, y)\n",
        "\n",
        "            # Backpropagation\n",
        "            optimizer.zero_grad()\n",
        "            loss.backward()\n",
        "            optimizer.step()\n",
        "            running_loss += loss.item()\n",
        "            if verbose == True and batch % 100 == 99:\n",
        "                current = batch * len(X)\n",
        "                print(f\"loss: {running_loss / 100:>7f}  [{current:>5d}/{size:>5d}]\")\n",
        "                running_loss = 0.0\n"
      ],
      "metadata": {
        "id": "mIJvpsv_6kB0"
      },
      "execution_count": null,
      "outputs": []
    },
    {
      "cell_type": "code",
      "source": [
        "# model.eval() is a kind of switch for some specific layers/parts of the model that behave differently during training \n",
        "# and inference (evaluating) time. For example, Dropouts Layers, BatchNorm Layers etc. You need to turn off them during model evaluation, \n",
        "# and .eval() will do it for you. In addition, the common practice for evaluating/validation is using torch.no_grad() in pair with model.eval() \n",
        "# to turn off gradients computation:\n",
        "def test(dataloader, model, loss_fn):\n",
        "    size = len(dataloader.dataset)\n",
        "    num_batches = len(dataloader)\n",
        "    model.eval()\n",
        "    test_loss = 0\n",
        "    with torch.no_grad():\n",
        "        for X, y in dataloader:\n",
        "            X, y = X.to(device), y.to(device)\n",
        "            pred = model(X)\n",
        "            test_loss += loss_fn(pred, y).item()\n",
        "    test_loss /= num_batches\n",
        "    print(f\"Test Loss: \\n CrossEntropyLoss: {test_loss}\")"
      ],
      "metadata": {
        "id": "7lItbFL6pFEF"
      },
      "execution_count": null,
      "outputs": []
    },
    {
      "cell_type": "code",
      "source": [
        "device = \"cuda\" if torch.cuda.is_available() else \"cpu\"\n",
        "print(f\"Using {device} device\")"
      ],
      "metadata": {
        "colab": {
          "base_uri": "https://localhost:8080/"
        },
        "id": "olgAGqW5pGnw",
        "outputId": "cfef8629-ec28-46c7-dc2f-27e1ac2ea66a"
      },
      "execution_count": null,
      "outputs": [
        {
          "output_type": "stream",
          "name": "stdout",
          "text": [
            "Using cuda device\n"
          ]
        }
      ]
    },
    {
      "cell_type": "code",
      "source": [
        "BATCH_SIZE = 64\n",
        "LEARNING_RATE = 0.001\n",
        "NUMBER_OF_EPOCHS = 20"
      ],
      "metadata": {
        "id": "Eb1tDLW-pOwa"
      },
      "execution_count": null,
      "outputs": []
    },
    {
      "cell_type": "code",
      "source": [
        "# prepare the dataset\n",
        "\n",
        "# load the dataset\n",
        "dataset = cornSeeds(Primary_Dataset_with_Label)\n",
        "# calculate split\n",
        "train, test = dataset.get_splits()\n",
        "# prepare data loaders\n",
        "train_dataloader = DataLoader(train, batch_size = BATCH_SIZE)\n",
        "test_dataloader = DataLoader(test, batch_size = BATCH_SIZE)\n",
        "\n",
        "for X, y in test_dataloader:\n",
        "    print(f\"Shape of X: {X.shape}\")\n",
        "    print(f\"Shape of y: {y.shape} {y.dtype}\")\n",
        "    break"
      ],
      "metadata": {
        "id": "lMZXEtlDoySU",
        "colab": {
          "base_uri": "https://localhost:8080/"
        },
        "outputId": "a25787b2-d24e-482f-f6b0-3f4663a4373c"
      },
      "execution_count": null,
      "outputs": [
        {
          "output_type": "stream",
          "name": "stdout",
          "text": [
            "Shape of X: torch.Size([64, 3, 256, 256])\n",
            "Shape of y: torch.Size([64]) torch.int64\n"
          ]
        }
      ]
    },
    {
      "cell_type": "code",
      "source": [
        "# define the network\n",
        "PATH = '/content/gdrive/MyDrive/checkpoint.pth'\n",
        "model = CNN()\n",
        "model.load_state_dict(torch.load(PATH))\n",
        "model.to(device)\n",
        "print(model)"
      ],
      "metadata": {
        "id": "pnyl9LappXe7",
        "colab": {
          "base_uri": "https://localhost:8080/"
        },
        "outputId": "dec21a66-eb6c-4a6a-adf4-83a8164a562c"
      },
      "execution_count": null,
      "outputs": [
        {
          "output_type": "stream",
          "name": "stdout",
          "text": [
            "CNN(\n",
            "  (convLayer): Sequential(\n",
            "    (0): Conv2d(3, 64, kernel_size=(3, 3), stride=(1, 1), padding=(2, 2))\n",
            "    (1): Conv2d(64, 64, kernel_size=(3, 3), stride=(1, 1), padding=(2, 2))\n",
            "    (2): ReLU()\n",
            "    (3): MaxPool2d(kernel_size=(3, 3), stride=(2, 2), padding=0, dilation=1, ceil_mode=False)\n",
            "    (4): ReLU()\n",
            "    (5): Conv2d(64, 128, kernel_size=(3, 3), stride=(1, 1), padding=(2, 2))\n",
            "    (6): Conv2d(128, 128, kernel_size=(3, 3), stride=(1, 1), padding=(2, 2))\n",
            "    (7): ReLU()\n",
            "    (8): MaxPool2d(kernel_size=(3, 3), stride=(2, 2), padding=0, dilation=1, ceil_mode=False)\n",
            "    (9): ReLU()\n",
            "    (10): Conv2d(128, 256, kernel_size=(3, 3), stride=(1, 1), padding=(2, 2))\n",
            "    (11): Conv2d(256, 256, kernel_size=(3, 3), stride=(1, 1), padding=(1, 1))\n",
            "    (12): ReLU()\n",
            "    (13): MaxPool2d(kernel_size=(3, 3), stride=(2, 2), padding=0, dilation=1, ceil_mode=False)\n",
            "    (14): ReLU()\n",
            "    (15): Conv2d(256, 512, kernel_size=(3, 3), stride=(1, 1), padding=(1, 1))\n",
            "    (16): Conv2d(512, 512, kernel_size=(3, 3), stride=(1, 1), padding=(1, 1))\n",
            "    (17): Conv2d(512, 512, kernel_size=(3, 3), stride=(1, 1), padding=(1, 1))\n",
            "    (18): ReLU()\n",
            "    (19): MaxPool2d(kernel_size=(3, 3), stride=(2, 2), padding=0, dilation=1, ceil_mode=False)\n",
            "    (20): ReLU()\n",
            "    (21): Conv2d(512, 512, kernel_size=(3, 3), stride=(1, 1), padding=(1, 1))\n",
            "    (22): Conv2d(512, 512, kernel_size=(3, 3), stride=(1, 1), padding=(1, 1))\n",
            "    (23): Conv2d(512, 512, kernel_size=(3, 3), stride=(1, 1), padding=(1, 1))\n",
            "    (24): ReLU()\n",
            "    (25): MaxPool2d(kernel_size=(3, 3), stride=(2, 2), padding=0, dilation=1, ceil_mode=False)\n",
            "    (26): ReLU()\n",
            "  )\n",
            "  (flatten): Flatten(start_dim=1, end_dim=-1)\n",
            "  (bnm1): BatchNorm1d(25088, eps=1e-05, momentum=0.1, affine=True, track_running_stats=True)\n",
            "  (hidden6): Linear(in_features=25088, out_features=100, bias=True)\n",
            "  (act1): ReLU()\n",
            "  (bnm2): BatchNorm1d(100, eps=1e-05, momentum=0.1, affine=True, track_running_stats=True)\n",
            "  (hidden7): Linear(in_features=100, out_features=4, bias=True)\n",
            "  (output): Softmax(dim=1)\n",
            ")\n"
          ]
        }
      ]
    },
    {
      "cell_type": "code",
      "source": [
        "loss_fn = nn.CrossEntropyLoss()\n",
        "optimizer = torch.optim.SGD(model.parameters(), lr = LEARNING_RATE)\n",
        "torch.cuda.empty_cache()\n",
        "train_model(train_dataloader, model, loss_fn, optimizer, num = 1, verbose = True)"
      ],
      "metadata": {
        "id": "ZRhKz87rpcdL",
        "colab": {
          "base_uri": "https://localhost:8080/"
        },
        "outputId": "0e3f5349-6dfe-4ffb-90c3-589b9ebfc8ef"
      },
      "execution_count": null,
      "outputs": [
        {
          "output_type": "stream",
          "name": "stdout",
          "text": [
            "Epoch 1\n",
            "-------------------------------\n",
            "loss: 0.761395  [ 6336/13351]\n",
            "loss: 0.765987  [12736/13351]\n"
          ]
        }
      ]
    },
    {
      "cell_type": "code",
      "source": [
        "import gc\n",
        "gc.collect()\n",
        "torch.cuda.empty_cache()\n",
        "pred_label = torch.empty(int(len(test) / BATCH_SIZE) + 1, BATCH_SIZE)\n",
        "true_label = torch.empty(int(len(test) / BATCH_SIZE) + 1, BATCH_SIZE)\n",
        "N = 0\n",
        "i = 0\n",
        "for X, y in test_dataloader:\n",
        "    X, y = X.to(device), y.to(device)\n",
        "    pred = model(X)\n",
        "    pred_label_batch = torch.argmax(pred, dim=1)\n",
        "    if (pred_label_batch.size(dim=0) < BATCH_SIZE):\n",
        "        N = BATCH_SIZE - pred_label_batch.size(dim=0)\n",
        "        temp = torch.zeros(BATCH_SIZE)\n",
        "        temp[:pred_label_batch.size(dim=0)] = pred_label_batch\n",
        "        pred_label_batch = temp\n",
        "    if (y.size(dim=0) < BATCH_SIZE):\n",
        "        temp = torch.zeros(BATCH_SIZE)\n",
        "        temp[:y.size(dim=0)] = y\n",
        "        y = temp\n",
        "    pred_label[i] = pred_label_batch\n",
        "    true_label[i] = y\n",
        "    i += 1\n",
        "pred_label = pred_label.flatten()[:-N]\n",
        "true_label = true_label.flatten()[:-N]"
      ],
      "metadata": {
        "id": "EtJzRBttxUGd",
        "colab": {
          "base_uri": "https://localhost:8080/",
          "height": 429
        },
        "outputId": "6bd056d3-9c96-4207-94f8-9387caef9df8"
      },
      "execution_count": null,
      "outputs": [
        {
          "output_type": "error",
          "ename": "RuntimeError",
          "evalue": "ignored",
          "traceback": [
            "\u001b[0;31m---------------------------------------------------------------------------\u001b[0m",
            "\u001b[0;31mRuntimeError\u001b[0m                              Traceback (most recent call last)",
            "\u001b[0;32m<ipython-input-18-b38667e0929d>\u001b[0m in \u001b[0;36m<module>\u001b[0;34m()\u001b[0m\n\u001b[1;32m      8\u001b[0m \u001b[0;32mfor\u001b[0m \u001b[0mX\u001b[0m\u001b[0;34m,\u001b[0m \u001b[0my\u001b[0m \u001b[0;32min\u001b[0m \u001b[0mtest_dataloader\u001b[0m\u001b[0;34m:\u001b[0m\u001b[0;34m\u001b[0m\u001b[0;34m\u001b[0m\u001b[0m\n\u001b[1;32m      9\u001b[0m     \u001b[0mX\u001b[0m\u001b[0;34m,\u001b[0m \u001b[0my\u001b[0m \u001b[0;34m=\u001b[0m \u001b[0mX\u001b[0m\u001b[0;34m.\u001b[0m\u001b[0mto\u001b[0m\u001b[0;34m(\u001b[0m\u001b[0mdevice\u001b[0m\u001b[0;34m)\u001b[0m\u001b[0;34m,\u001b[0m \u001b[0my\u001b[0m\u001b[0;34m.\u001b[0m\u001b[0mto\u001b[0m\u001b[0;34m(\u001b[0m\u001b[0mdevice\u001b[0m\u001b[0;34m)\u001b[0m\u001b[0;34m\u001b[0m\u001b[0;34m\u001b[0m\u001b[0m\n\u001b[0;32m---> 10\u001b[0;31m     \u001b[0mpred\u001b[0m \u001b[0;34m=\u001b[0m \u001b[0mmodel\u001b[0m\u001b[0;34m(\u001b[0m\u001b[0mX\u001b[0m\u001b[0;34m)\u001b[0m\u001b[0;34m\u001b[0m\u001b[0;34m\u001b[0m\u001b[0m\n\u001b[0m\u001b[1;32m     11\u001b[0m     \u001b[0mpred_label_batch\u001b[0m \u001b[0;34m=\u001b[0m \u001b[0mtorch\u001b[0m\u001b[0;34m.\u001b[0m\u001b[0margmax\u001b[0m\u001b[0;34m(\u001b[0m\u001b[0mpred\u001b[0m\u001b[0;34m,\u001b[0m \u001b[0mdim\u001b[0m\u001b[0;34m=\u001b[0m\u001b[0;36m1\u001b[0m\u001b[0;34m)\u001b[0m\u001b[0;34m\u001b[0m\u001b[0;34m\u001b[0m\u001b[0m\n\u001b[1;32m     12\u001b[0m     \u001b[0;32mif\u001b[0m \u001b[0;34m(\u001b[0m\u001b[0mpred_label_batch\u001b[0m\u001b[0;34m.\u001b[0m\u001b[0msize\u001b[0m\u001b[0;34m(\u001b[0m\u001b[0mdim\u001b[0m\u001b[0;34m=\u001b[0m\u001b[0;36m0\u001b[0m\u001b[0;34m)\u001b[0m \u001b[0;34m<\u001b[0m \u001b[0mBATCH_SIZE\u001b[0m\u001b[0;34m)\u001b[0m\u001b[0;34m:\u001b[0m\u001b[0;34m\u001b[0m\u001b[0;34m\u001b[0m\u001b[0m\n",
            "\u001b[0;32m/usr/local/lib/python3.7/dist-packages/torch/nn/modules/module.py\u001b[0m in \u001b[0;36m_call_impl\u001b[0;34m(self, *input, **kwargs)\u001b[0m\n\u001b[1;32m   1100\u001b[0m         if not (self._backward_hooks or self._forward_hooks or self._forward_pre_hooks or _global_backward_hooks\n\u001b[1;32m   1101\u001b[0m                 or _global_forward_hooks or _global_forward_pre_hooks):\n\u001b[0;32m-> 1102\u001b[0;31m             \u001b[0;32mreturn\u001b[0m \u001b[0mforward_call\u001b[0m\u001b[0;34m(\u001b[0m\u001b[0;34m*\u001b[0m\u001b[0minput\u001b[0m\u001b[0;34m,\u001b[0m \u001b[0;34m**\u001b[0m\u001b[0mkwargs\u001b[0m\u001b[0;34m)\u001b[0m\u001b[0;34m\u001b[0m\u001b[0;34m\u001b[0m\u001b[0m\n\u001b[0m\u001b[1;32m   1103\u001b[0m         \u001b[0;31m# Do not call functions when jit is used\u001b[0m\u001b[0;34m\u001b[0m\u001b[0;34m\u001b[0m\u001b[0;34m\u001b[0m\u001b[0m\n\u001b[1;32m   1104\u001b[0m         \u001b[0mfull_backward_hooks\u001b[0m\u001b[0;34m,\u001b[0m \u001b[0mnon_full_backward_hooks\u001b[0m \u001b[0;34m=\u001b[0m \u001b[0;34m[\u001b[0m\u001b[0;34m]\u001b[0m\u001b[0;34m,\u001b[0m \u001b[0;34m[\u001b[0m\u001b[0;34m]\u001b[0m\u001b[0;34m\u001b[0m\u001b[0;34m\u001b[0m\u001b[0m\n",
            "\u001b[0;32m<ipython-input-10-576855d61bfb>\u001b[0m in \u001b[0;36mforward\u001b[0;34m(self, X)\u001b[0m\n\u001b[1;32m    129\u001b[0m     \u001b[0;31m# forward propagate input\u001b[0m\u001b[0;34m\u001b[0m\u001b[0;34m\u001b[0m\u001b[0;34m\u001b[0m\u001b[0m\n\u001b[1;32m    130\u001b[0m     \u001b[0;32mdef\u001b[0m \u001b[0mforward\u001b[0m\u001b[0;34m(\u001b[0m\u001b[0mself\u001b[0m\u001b[0;34m,\u001b[0m \u001b[0mX\u001b[0m\u001b[0;34m)\u001b[0m\u001b[0;34m:\u001b[0m\u001b[0;34m\u001b[0m\u001b[0;34m\u001b[0m\u001b[0m\n\u001b[0;32m--> 131\u001b[0;31m         \u001b[0mX\u001b[0m \u001b[0;34m=\u001b[0m \u001b[0mself\u001b[0m\u001b[0;34m.\u001b[0m\u001b[0mconvLayer\u001b[0m\u001b[0;34m(\u001b[0m\u001b[0mX\u001b[0m\u001b[0;34m)\u001b[0m\u001b[0;34m\u001b[0m\u001b[0;34m\u001b[0m\u001b[0m\n\u001b[0m\u001b[1;32m    132\u001b[0m         \u001b[0mX\u001b[0m \u001b[0;34m=\u001b[0m \u001b[0mself\u001b[0m\u001b[0;34m.\u001b[0m\u001b[0mflatten\u001b[0m\u001b[0;34m(\u001b[0m\u001b[0mX\u001b[0m\u001b[0;34m)\u001b[0m\u001b[0;34m\u001b[0m\u001b[0;34m\u001b[0m\u001b[0m\n\u001b[1;32m    133\u001b[0m         \u001b[0mX\u001b[0m \u001b[0;34m=\u001b[0m \u001b[0mself\u001b[0m\u001b[0;34m.\u001b[0m\u001b[0mbnm1\u001b[0m\u001b[0;34m(\u001b[0m\u001b[0mX\u001b[0m\u001b[0;34m)\u001b[0m\u001b[0;34m\u001b[0m\u001b[0;34m\u001b[0m\u001b[0m\n",
            "\u001b[0;32m/usr/local/lib/python3.7/dist-packages/torch/nn/modules/module.py\u001b[0m in \u001b[0;36m_call_impl\u001b[0;34m(self, *input, **kwargs)\u001b[0m\n\u001b[1;32m   1100\u001b[0m         if not (self._backward_hooks or self._forward_hooks or self._forward_pre_hooks or _global_backward_hooks\n\u001b[1;32m   1101\u001b[0m                 or _global_forward_hooks or _global_forward_pre_hooks):\n\u001b[0;32m-> 1102\u001b[0;31m             \u001b[0;32mreturn\u001b[0m \u001b[0mforward_call\u001b[0m\u001b[0;34m(\u001b[0m\u001b[0;34m*\u001b[0m\u001b[0minput\u001b[0m\u001b[0;34m,\u001b[0m \u001b[0;34m**\u001b[0m\u001b[0mkwargs\u001b[0m\u001b[0;34m)\u001b[0m\u001b[0;34m\u001b[0m\u001b[0;34m\u001b[0m\u001b[0m\n\u001b[0m\u001b[1;32m   1103\u001b[0m         \u001b[0;31m# Do not call functions when jit is used\u001b[0m\u001b[0;34m\u001b[0m\u001b[0;34m\u001b[0m\u001b[0;34m\u001b[0m\u001b[0m\n\u001b[1;32m   1104\u001b[0m         \u001b[0mfull_backward_hooks\u001b[0m\u001b[0;34m,\u001b[0m \u001b[0mnon_full_backward_hooks\u001b[0m \u001b[0;34m=\u001b[0m \u001b[0;34m[\u001b[0m\u001b[0;34m]\u001b[0m\u001b[0;34m,\u001b[0m \u001b[0;34m[\u001b[0m\u001b[0;34m]\u001b[0m\u001b[0;34m\u001b[0m\u001b[0;34m\u001b[0m\u001b[0m\n",
            "\u001b[0;32m/usr/local/lib/python3.7/dist-packages/torch/nn/modules/container.py\u001b[0m in \u001b[0;36mforward\u001b[0;34m(self, input)\u001b[0m\n\u001b[1;32m    139\u001b[0m     \u001b[0;32mdef\u001b[0m \u001b[0mforward\u001b[0m\u001b[0;34m(\u001b[0m\u001b[0mself\u001b[0m\u001b[0;34m,\u001b[0m \u001b[0minput\u001b[0m\u001b[0;34m)\u001b[0m\u001b[0;34m:\u001b[0m\u001b[0;34m\u001b[0m\u001b[0;34m\u001b[0m\u001b[0m\n\u001b[1;32m    140\u001b[0m         \u001b[0;32mfor\u001b[0m \u001b[0mmodule\u001b[0m \u001b[0;32min\u001b[0m \u001b[0mself\u001b[0m\u001b[0;34m:\u001b[0m\u001b[0;34m\u001b[0m\u001b[0;34m\u001b[0m\u001b[0m\n\u001b[0;32m--> 141\u001b[0;31m             \u001b[0minput\u001b[0m \u001b[0;34m=\u001b[0m \u001b[0mmodule\u001b[0m\u001b[0;34m(\u001b[0m\u001b[0minput\u001b[0m\u001b[0;34m)\u001b[0m\u001b[0;34m\u001b[0m\u001b[0;34m\u001b[0m\u001b[0m\n\u001b[0m\u001b[1;32m    142\u001b[0m         \u001b[0;32mreturn\u001b[0m \u001b[0minput\u001b[0m\u001b[0;34m\u001b[0m\u001b[0;34m\u001b[0m\u001b[0m\n\u001b[1;32m    143\u001b[0m \u001b[0;34m\u001b[0m\u001b[0m\n",
            "\u001b[0;32m/usr/local/lib/python3.7/dist-packages/torch/nn/modules/module.py\u001b[0m in \u001b[0;36m_call_impl\u001b[0;34m(self, *input, **kwargs)\u001b[0m\n\u001b[1;32m   1100\u001b[0m         if not (self._backward_hooks or self._forward_hooks or self._forward_pre_hooks or _global_backward_hooks\n\u001b[1;32m   1101\u001b[0m                 or _global_forward_hooks or _global_forward_pre_hooks):\n\u001b[0;32m-> 1102\u001b[0;31m             \u001b[0;32mreturn\u001b[0m \u001b[0mforward_call\u001b[0m\u001b[0;34m(\u001b[0m\u001b[0;34m*\u001b[0m\u001b[0minput\u001b[0m\u001b[0;34m,\u001b[0m \u001b[0;34m**\u001b[0m\u001b[0mkwargs\u001b[0m\u001b[0;34m)\u001b[0m\u001b[0;34m\u001b[0m\u001b[0;34m\u001b[0m\u001b[0m\n\u001b[0m\u001b[1;32m   1103\u001b[0m         \u001b[0;31m# Do not call functions when jit is used\u001b[0m\u001b[0;34m\u001b[0m\u001b[0;34m\u001b[0m\u001b[0;34m\u001b[0m\u001b[0m\n\u001b[1;32m   1104\u001b[0m         \u001b[0mfull_backward_hooks\u001b[0m\u001b[0;34m,\u001b[0m \u001b[0mnon_full_backward_hooks\u001b[0m \u001b[0;34m=\u001b[0m \u001b[0;34m[\u001b[0m\u001b[0;34m]\u001b[0m\u001b[0;34m,\u001b[0m \u001b[0;34m[\u001b[0m\u001b[0;34m]\u001b[0m\u001b[0;34m\u001b[0m\u001b[0;34m\u001b[0m\u001b[0m\n",
            "\u001b[0;32m/usr/local/lib/python3.7/dist-packages/torch/nn/modules/conv.py\u001b[0m in \u001b[0;36mforward\u001b[0;34m(self, input)\u001b[0m\n\u001b[1;32m    444\u001b[0m \u001b[0;34m\u001b[0m\u001b[0m\n\u001b[1;32m    445\u001b[0m     \u001b[0;32mdef\u001b[0m \u001b[0mforward\u001b[0m\u001b[0;34m(\u001b[0m\u001b[0mself\u001b[0m\u001b[0;34m,\u001b[0m \u001b[0minput\u001b[0m\u001b[0;34m:\u001b[0m \u001b[0mTensor\u001b[0m\u001b[0;34m)\u001b[0m \u001b[0;34m->\u001b[0m \u001b[0mTensor\u001b[0m\u001b[0;34m:\u001b[0m\u001b[0;34m\u001b[0m\u001b[0;34m\u001b[0m\u001b[0m\n\u001b[0;32m--> 446\u001b[0;31m         \u001b[0;32mreturn\u001b[0m \u001b[0mself\u001b[0m\u001b[0;34m.\u001b[0m\u001b[0m_conv_forward\u001b[0m\u001b[0;34m(\u001b[0m\u001b[0minput\u001b[0m\u001b[0;34m,\u001b[0m \u001b[0mself\u001b[0m\u001b[0;34m.\u001b[0m\u001b[0mweight\u001b[0m\u001b[0;34m,\u001b[0m \u001b[0mself\u001b[0m\u001b[0;34m.\u001b[0m\u001b[0mbias\u001b[0m\u001b[0;34m)\u001b[0m\u001b[0;34m\u001b[0m\u001b[0;34m\u001b[0m\u001b[0m\n\u001b[0m\u001b[1;32m    447\u001b[0m \u001b[0;34m\u001b[0m\u001b[0m\n\u001b[1;32m    448\u001b[0m \u001b[0;32mclass\u001b[0m \u001b[0mConv3d\u001b[0m\u001b[0;34m(\u001b[0m\u001b[0m_ConvNd\u001b[0m\u001b[0;34m)\u001b[0m\u001b[0;34m:\u001b[0m\u001b[0;34m\u001b[0m\u001b[0;34m\u001b[0m\u001b[0m\n",
            "\u001b[0;32m/usr/local/lib/python3.7/dist-packages/torch/nn/modules/conv.py\u001b[0m in \u001b[0;36m_conv_forward\u001b[0;34m(self, input, weight, bias)\u001b[0m\n\u001b[1;32m    441\u001b[0m                             _pair(0), self.dilation, self.groups)\n\u001b[1;32m    442\u001b[0m         return F.conv2d(input, weight, bias, self.stride,\n\u001b[0;32m--> 443\u001b[0;31m                         self.padding, self.dilation, self.groups)\n\u001b[0m\u001b[1;32m    444\u001b[0m \u001b[0;34m\u001b[0m\u001b[0m\n\u001b[1;32m    445\u001b[0m     \u001b[0;32mdef\u001b[0m \u001b[0mforward\u001b[0m\u001b[0;34m(\u001b[0m\u001b[0mself\u001b[0m\u001b[0;34m,\u001b[0m \u001b[0minput\u001b[0m\u001b[0;34m:\u001b[0m \u001b[0mTensor\u001b[0m\u001b[0;34m)\u001b[0m \u001b[0;34m->\u001b[0m \u001b[0mTensor\u001b[0m\u001b[0;34m:\u001b[0m\u001b[0;34m\u001b[0m\u001b[0;34m\u001b[0m\u001b[0m\n",
            "\u001b[0;31mRuntimeError\u001b[0m: CUDA out of memory. Tried to allocate 1.03 GiB (GPU 0; 14.76 GiB total capacity; 12.57 GiB already allocated; 3.75 MiB free; 13.43 GiB reserved in total by PyTorch) If reserved memory is >> allocated memory try setting max_split_size_mb to avoid fragmentation.  See documentation for Memory Management and PYTORCH_CUDA_ALLOC_CONF"
          ]
        }
      ]
    },
    {
      "cell_type": "code",
      "source": [
        "from sklearn.metrics import confusion_matrix\n",
        "cm = confusion_matrix(true_label.numpy(), pred_label.numpy())\n",
        "cm"
      ],
      "metadata": {
        "id": "vqjRyJngRLi1"
      },
      "execution_count": null,
      "outputs": []
    },
    {
      "cell_type": "code",
      "source": [
        "accuracy = np.sum(np.diagonal(cm)) / np.sum(cm)\n",
        "accuracy"
      ],
      "metadata": {
        "id": "QddJYa9-VS-X"
      },
      "execution_count": null,
      "outputs": []
    },
    {
      "cell_type": "code",
      "source": [
        "torch.save(model.state_dict(), '/content/gdrive/MyDrive/checkpoint.pth')"
      ],
      "metadata": {
        "id": "q74tCrEZDgDo"
      },
      "execution_count": null,
      "outputs": []
    }
  ]
}